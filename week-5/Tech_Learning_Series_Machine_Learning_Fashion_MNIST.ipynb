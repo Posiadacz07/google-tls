{
  "nbformat": 4,
  "nbformat_minor": 0,
  "metadata": {
    "colab": {
      "name": "Tech Learning Series - Machine Learning : Fashion MNIST",
      "provenance": [],
      "collapsed_sections": [
        "JndnmDMp66FL"
      ],
      "toc_visible": true
    },
    "kernelspec": {
      "name": "python3",
      "display_name": "Python 3"
    }
  },
  "cells": [
    {
      "cell_type": "markdown",
      "metadata": {
        "id": "JndnmDMp66FL"
      },
      "source": [
        "##### Copyright 2019 Google LLC.\n",
        "\n",
        "Licensed under the Apache License, Version 2.0 (the \"License\");"
      ]
    },
    {
      "cell_type": "code",
      "metadata": {
        "id": "hMqWDc_m6rUC",
        "cellView": "code"
      },
      "source": [
        "# Licensed under the Apache License, Version 2.0 (the \"License\");\n",
        "# you may not use this file except in compliance with the License.\n",
        "# You may obtain a copy of the License at\n",
        "#\n",
        "# https://www.apache.org/licenses/LICENSE-2.0\n",
        "#\n",
        "# Unless required by applicable law or agreed to in writing, software\n",
        "# distributed under the License is distributed on an \"AS IS\" BASIS,\n",
        "# WITHOUT WARRANTIES OR CONDITIONS OF ANY KIND, either express or implied.\n",
        "# See the License for the specific language governing permissions and\n",
        "# limitations under the License."
      ],
      "execution_count": null,
      "outputs": []
    },
    {
      "cell_type": "markdown",
      "metadata": {
        "id": "1SRlkgQlvu2T"
      },
      "source": [
        "# Fashion MNIST Classifier Using Keras\n",
        "\n",
        "The code below was presented during the practical part of the Google Tech Learning Series class about Machine Learning.\n",
        "\n",
        "Please make a copy in Drive (see the \"File\" menu) and run the cells one by one to download the dataset, train the model and inspect some predictions."
      ]
    },
    {
      "cell_type": "markdown",
      "metadata": {
        "id": "zq5NvwP5wLYd"
      },
      "source": [
        "## Initialize"
      ]
    },
    {
      "cell_type": "code",
      "metadata": {
        "id": "dxPPpFyU_IrC"
      },
      "source": [
        "# Some useful libraries.\n",
        "import itertools\n",
        "from matplotlib import pyplot as plt"
      ],
      "execution_count": null,
      "outputs": []
    },
    {
      "cell_type": "code",
      "metadata": {
        "id": "oT2lNJBRwPPC",
        "colab": {
          "base_uri": "https://localhost:8080/",
          "height": 34
        },
        "outputId": "9e5d9f42-0869-463c-a556-978d0e145ab3"
      },
      "source": [
        "# Note : In the recording we have used TensorFlow 1.15 - in the meantime\n",
        "# Tensorflow 2 has been released and we'll use the new version. Because we have\n",
        "# been using Keras, no updates to our code is needed.\n",
        "%tensorflow_version 2.x"
      ],
      "execution_count": null,
      "outputs": [
        {
          "output_type": "stream",
          "text": [
            "TensorFlow 2.x selected.\n"
          ],
          "name": "stdout"
        }
      ]
    },
    {
      "cell_type": "code",
      "metadata": {
        "id": "B7s8aq-482cB",
        "colab": {
          "base_uri": "https://localhost:8080/",
          "height": 51
        },
        "outputId": "785abe23-e4d5-4d46-89b7-9b4f258a8d1b"
      },
      "source": [
        "import tensorflow as tf\n",
        "print(f'TF version={tf.__version__}')\n",
        "# Do you want to train with a GPU? Simply \"Change runtime type\" in the \"Runtime\"\n",
        "# menu and re-execte the cells.\n",
        "print(f'GPUS={tf.config.list_physical_devices(\"GPU\")}')"
      ],
      "execution_count": null,
      "outputs": [
        {
          "output_type": "stream",
          "text": [
            "TF version=2.1.0\n",
            "GPUS=[]\n"
          ],
          "name": "stdout"
        }
      ]
    },
    {
      "cell_type": "markdown",
      "metadata": {
        "id": "XO1yOMdCy7NY"
      },
      "source": [
        "## Download and Inspect the Data"
      ]
    },
    {
      "cell_type": "code",
      "metadata": {
        "id": "23fvyvhbWLev"
      },
      "source": [
        "# Download MNIST dataset from the web.\n",
        "# See more datasets on https://www.tensorflow.org/datasets/datasets\n",
        "import tensorflow_datasets as tfds\n",
        "ds, info = tfds.load('fashion_mnist', with_info=True)"
      ],
      "execution_count": null,
      "outputs": []
    },
    {
      "cell_type": "code",
      "metadata": {
        "id": "D1Agq7Im8PGF",
        "colab": {
          "base_uri": "https://localhost:8080/",
          "height": 598
        },
        "outputId": "17c34e17-ed88-4792-bc38-a19650f4c7e4"
      },
      "source": [
        "info"
      ],
      "execution_count": null,
      "outputs": [
        {
          "output_type": "execute_result",
          "data": {
            "text/plain": [
              "tfds.core.DatasetInfo(\n",
              "    name='fashion_mnist',\n",
              "    version=3.0.0,\n",
              "    description='Fashion-MNIST is a dataset of Zalando's article images consisting of a training set of 60,000 examples and a test set of 10,000 examples. Each example is a 28x28 grayscale image, associated with a label from 10 classes.',\n",
              "    homepage='https://github.com/zalandoresearch/fashion-mnist',\n",
              "    features=FeaturesDict({\n",
              "        'image': Image(shape=(28, 28, 1), dtype=tf.uint8),\n",
              "        'label': ClassLabel(shape=(), dtype=tf.int64, num_classes=10),\n",
              "    }),\n",
              "    total_num_examples=70000,\n",
              "    splits={\n",
              "        'test': 10000,\n",
              "        'train': 60000,\n",
              "    },\n",
              "    supervised_keys=('image', 'label'),\n",
              "    citation=\"\"\"@article{DBLP:journals/corr/abs-1708-07747,\n",
              "      author    = {Han Xiao and\n",
              "                   Kashif Rasul and\n",
              "                   Roland Vollgraf},\n",
              "      title     = {Fashion-MNIST: a Novel Image Dataset for Benchmarking Machine Learning\n",
              "                   Algorithms},\n",
              "      journal   = {CoRR},\n",
              "      volume    = {abs/1708.07747},\n",
              "      year      = {2017},\n",
              "      url       = {http://arxiv.org/abs/1708.07747},\n",
              "      archivePrefix = {arXiv},\n",
              "      eprint    = {1708.07747},\n",
              "      timestamp = {Mon, 13 Aug 2018 16:47:27 +0200},\n",
              "      biburl    = {https://dblp.org/rec/bib/journals/corr/abs-1708-07747},\n",
              "      bibsource = {dblp computer science bibliography, https://dblp.org}\n",
              "    }\"\"\",\n",
              "    redistribution_info=,\n",
              ")"
            ]
          },
          "metadata": {
            "tags": []
          },
          "execution_count": 6
        }
      ]
    },
    {
      "cell_type": "code",
      "metadata": {
        "id": "w3jXqLxY8RFW",
        "colab": {
          "base_uri": "https://localhost:8080/",
          "height": 34
        },
        "outputId": "70fd312f-f631-4192-b606-dd6100269257"
      },
      "source": [
        "# Datasets are iterables. Let's fetch the first example:\n",
        "for example in ds['train']:\n",
        "    break\n",
        "example.keys()"
      ],
      "execution_count": null,
      "outputs": [
        {
          "output_type": "execute_result",
          "data": {
            "text/plain": [
              "dict_keys(['image', 'label'])"
            ]
          },
          "metadata": {
            "tags": []
          },
          "execution_count": 7
        }
      ]
    },
    {
      "cell_type": "code",
      "metadata": {
        "id": "w0kyvuFxxu-E",
        "collapsed": true,
        "colab": {
          "base_uri": "https://localhost:8080/",
          "height": 309
        },
        "outputId": "c0789458-37fb-4f89-dbc8-9ddf42d6f282"
      },
      "source": [
        "print(f'Image shape={example[\"image\"].shape}')\n",
        "# The image has a last dimension of `1` because it contains a single grayscale\n",
        "# channel. Make the shape (28, 28) for drawing with Matplotlib.\n",
        "plt.matshow(example['image'][:,:,0])"
      ],
      "execution_count": null,
      "outputs": [
        {
          "output_type": "stream",
          "text": [
            "Image shape=(28, 28, 1)\n"
          ],
          "name": "stdout"
        },
        {
          "output_type": "execute_result",
          "data": {
            "text/plain": [
              "<matplotlib.image.AxesImage at 0x7fcedfd0f400>"
            ]
          },
          "metadata": {
            "tags": []
          },
          "execution_count": 8
        },
        {
          "output_type": "display_data",
          "data": {
            "image/png": "[encoded data removed]",
            "text/plain": [
              "<Figure size 288x288 with 1 Axes>"
            ]
          },
          "metadata": {
            "tags": []
          }
        }
      ]
    },
    {
      "cell_type": "code",
      "metadata": {
        "id": "QDYi7nWkyXER",
        "colab": {
          "base_uri": "https://localhost:8080/",
          "height": 34
        },
        "outputId": "1d7eead7-9552-4258-a12a-9c1275e4f18c"
      },
      "source": [
        "# The label is specified as a number.\n",
        "example['label']"
      ],
      "execution_count": null,
      "outputs": [
        {
          "output_type": "execute_result",
          "data": {
            "text/plain": [
              "<tf.Tensor: shape=(), dtype=int64, numpy=2>"
            ]
          },
          "metadata": {
            "tags": []
          },
          "execution_count": 9
        }
      ]
    },
    {
      "cell_type": "code",
      "metadata": {
        "id": "MR57bxc39jK-",
        "colab": {
          "base_uri": "https://localhost:8080/",
          "height": 187
        },
        "outputId": "14404b61-0e04-462d-8f6e-bd0b5ee8be08"
      },
      "source": [
        "# The additional data in `info` let's use convert that number to a string label.\n",
        "info.features['label'].names"
      ],
      "execution_count": null,
      "outputs": [
        {
          "output_type": "execute_result",
          "data": {
            "text/plain": [
              "['T-shirt/top',\n",
              " 'Trouser',\n",
              " 'Pullover',\n",
              " 'Dress',\n",
              " 'Coat',\n",
              " 'Sandal',\n",
              " 'Shirt',\n",
              " 'Sneaker',\n",
              " 'Bag',\n",
              " 'Ankle boot']"
            ]
          },
          "metadata": {
            "tags": []
          },
          "execution_count": 10
        }
      ]
    },
    {
      "cell_type": "code",
      "metadata": {
        "id": "xvSKdxto8_fj",
        "colab": {
          "base_uri": "https://localhost:8080/",
          "height": 205
        },
        "outputId": "2db41773-2d3d-4874-c0c7-f4de29123f50"
      },
      "source": [
        "# Let's plot some more examples...\n",
        "rows, cols = 2, 8\n",
        "plt.figure(figsize=(1.5*cols, 1.5*rows))\n",
        "for i, example in enumerate(itertools.islice(ds['train'], rows*cols)):\n",
        "    plt.subplot(rows, cols, i + 1)\n",
        "    plt.xticks([])\n",
        "    plt.yticks([])\n",
        "    plt.grid(False)\n",
        "    plt.imshow(example['image'].numpy().reshape((28, 28)), cmap=plt.cm.binary)\n",
        "    label_index = example['label'].numpy()\n",
        "    plt.xlabel(info.features['label'].names[label_index])"
      ],
      "execution_count": null,
      "outputs": [
        {
          "output_type": "display_data",
          "data": {
            "image/png": "[encoded data removed]",
            "text/plain": [
              "<Figure size 864x216 with 16 Axes>"
            ]
          },
          "metadata": {
            "tags": []
          }
        }
      ]
    },
    {
      "cell_type": "markdown",
      "metadata": {
        "id": "xs1j8C_yzDsV"
      },
      "source": [
        "## Define the Model"
      ]
    },
    {
      "cell_type": "code",
      "metadata": {
        "id": "jnHyGP7e-c1Q"
      },
      "source": [
        "# Define the model; see presentation for additional explanations.\n",
        "model = tf.keras.Sequential([\n",
        "    # We need to specify the input shape of the first layer only.\n",
        "    tf.keras.layers.Flatten(input_shape=(28, 28, 1)),\n",
        "    tf.keras.layers.Dense(128, activation='relu'),\n",
        "    tf.keras.layers.Dense(10, activation='softmax')\n",
        "])"
      ],
      "execution_count": null,
      "outputs": []
    },
    {
      "cell_type": "code",
      "metadata": {
        "id": "zA4Fu6Ke-kho",
        "colab": {
          "base_uri": "https://localhost:8080/",
          "height": 255
        },
        "outputId": "5e81dcc3-3292-474e-b7cc-066673315e76"
      },
      "source": [
        "model.compile(optimizer='adam',\n",
        "              loss='sparse_categorical_crossentropy',\n",
        "              metrics=['accuracy'])\n",
        "model.summary()"
      ],
      "execution_count": null,
      "outputs": [
        {
          "output_type": "stream",
          "text": [
            "Model: \"sequential\"\n",
            "_________________________________________________________________\n",
            "Layer (type)                 Output Shape              Param #   \n",
            "=================================================================\n",
            "flatten (Flatten)            (None, 784)               0         \n",
            "_________________________________________________________________\n",
            "dense (Dense)                (None, 128)               100480    \n",
            "_________________________________________________________________\n",
            "dense_1 (Dense)              (None, 10)                1290      \n",
            "=================================================================\n",
            "Total params: 101,770\n",
            "Trainable params: 101,770\n",
            "Non-trainable params: 0\n",
            "_________________________________________________________________\n"
          ],
          "name": "stdout"
        }
      ]
    },
    {
      "cell_type": "markdown",
      "metadata": {
        "id": "s6v5eJ23zF8l"
      },
      "source": [
        "## Train the Model"
      ]
    },
    {
      "cell_type": "code",
      "metadata": {
        "id": "pR2clKOx-nMn",
        "colab": {
          "base_uri": "https://localhost:8080/",
          "height": 51
        },
        "outputId": "f58f1adf-3046-4731-d414-b3a5529a7fc8"
      },
      "source": [
        "# Keras .fit() function expects dataset containing (data, label).\n",
        "# This function maps the dictionary from tfds to this expected tuple.\n",
        "def map_features(example):\n",
        "    return (\n",
        "        example['image'],\n",
        "        example['label'],\n",
        "    )\n",
        "# Train the model with batches of size 128.\n",
        "train_ds = ds['train'].map(map_features).batch(128)\n",
        "model.fit(train_ds, epochs=1)"
      ],
      "execution_count": null,
      "outputs": [
        {
          "output_type": "stream",
          "text": [
            "469/469 [==============================] - 15s 32ms/step - loss: 6.6240 - accuracy: 0.7251\n"
          ],
          "name": "stdout"
        },
        {
          "output_type": "execute_result",
          "data": {
            "text/plain": [
              "<tensorflow.python.keras.callbacks.History at 0x7fcedf7b8978>"
            ]
          },
          "metadata": {
            "tags": []
          },
          "execution_count": 14
        }
      ]
    },
    {
      "cell_type": "markdown",
      "metadata": {
        "id": "r7-PDJK-zIol"
      },
      "source": [
        "## Inspect some Predictions"
      ]
    },
    {
      "cell_type": "code",
      "metadata": {
        "id": "rTOEuakIBFc2",
        "colab": {
          "base_uri": "https://localhost:8080/",
          "height": 205
        },
        "outputId": "e0a0f959-e7ea-41de-8712-0072a0bb2944"
      },
      "source": [
        "# Show predictions with their \"confidence\" (note that this confidence is simply\n",
        "# the value of the largest activation in the output layer and this is by no\n",
        "# means calibrated, sometimes you will even see predictions with ~100%\n",
        "# \"confidence\" that are still wrong...)\n",
        "# Incorrect predictions are shown with red text.\n",
        "rows, cols = 2, 8\n",
        "plt.figure(figsize=(1.5*cols, 1.5*rows))\n",
        "examples = []\n",
        "for i, example in enumerate(itertools.islice(ds['test'], rows*cols)):\n",
        "    examples.append(example)\n",
        "    plt.subplot(rows, cols, i + 1)\n",
        "    plt.xticks([])\n",
        "    plt.yticks([])\n",
        "    plt.grid(False)\n",
        "    plt.imshow(example['image'].numpy().reshape((28, 28)), cmap=plt.cm.binary)\n",
        "    # tf.expand_dims() changes the shape (28, 28, 1) -> (1, 28, 28, 1)\n",
        "    # This is needed because the model expects a batch of images (batch\n",
        "    # dimension is the first dimension).\n",
        "    prediction = model.predict(tf.expand_dims(example['image'], 0))[0]\n",
        "    predicted_index = prediction.argmax()\n",
        "    predicted_name = info.features['label'].names[predicted_index]\n",
        "    label_index = example['label']\n",
        "    predicted_pct = int(100 * prediction.max())\n",
        "    fmt_kwargs = {}\n",
        "    if example['label'].numpy() != predicted_index:\n",
        "        fmt_kwargs['color'] = 'red'\n",
        "    plt.xlabel(f'{predicted_name} ({predicted_pct}%)', **fmt_kwargs)"
      ],
      "execution_count": null,
      "outputs": [
        {
          "output_type": "display_data",
          "data": {
            "image/png": "[encoded data removed]",
            "text/plain": [
              "<Figure size 864x216 with 16 Axes>"
            ]
          },
          "metadata": {
            "tags": []
          }
        }
      ]
    },
    {
      "cell_type": "code",
      "metadata": {
        "id": "0V7t3rKaD9T_",
        "colab": {
          "base_uri": "https://localhost:8080/",
          "height": 317
        },
        "outputId": "a52e9c3b-b9d3-4361-871f-9e91610bda43"
      },
      "source": [
        "# Inspect an individual example from above.\n",
        "example = examples[0]\n",
        "pred = model.predict(tf.expand_dims(example['image'], 0))[0]\n",
        "plt.bar(range(len(pred)), pred)\n",
        "plt.xticks(range(len(pred)), info.features['label'].names)\n",
        "plt.setp(plt.gca().get_xticklabels(), rotation=45, horizontalalignment='right')\n",
        "print('Prediction={} Label={}'.format(\n",
        "    info.features['label'].names[pred.argmax()],\n",
        "    info.features['label'].names[example['label']],\n",
        "))"
      ],
      "execution_count": null,
      "outputs": [
        {
          "output_type": "stream",
          "text": [
            "Prediction=Coat Label=Coat\n"
          ],
          "name": "stdout"
        },
        {
          "output_type": "display_data",
          "data": {
            "image/png": "[encoded data removed]",
            "text/plain": [
              "<Figure size 432x288 with 1 Axes>"
            ]
          },
          "metadata": {
            "tags": []
          }
        }
      ]
    },
    {
      "cell_type": "markdown",
      "metadata": {
        "id": "ySJ8EA7SzQiR"
      },
      "source": [
        "## Go Further\n",
        "\n",
        "This is a very simple working example and there are many ways to improve it, some ideas:\n",
        "\n",
        "- Train for more episodes. You can also repeatedly execute the cell with `model.fit()` - as long as you don't re-initialize the model, the trainings will be accumulative.\n",
        "- Change batch size.\n",
        "- Change number of layers and number of units per layer.\n",
        "- Measure the accuracy of the model on the test set: read about [model.evaluate()](https://keras.io/api/models/model_training_apis/#evaluate-method) and [metrics](https://keras.io/api/metrics/). What happens to train/test metrics when you train for many more epochs?\n",
        "- Try to use [Regularization](https://keras.io/regularizers/) / [Dropout](https://keras.io/api/layers/regularization_layers/dropout/) and see how the output changes.\n",
        "- Try more complex model architectures, like convolutional neural networks - for more information on this topic, see for example this [article](https://colah.github.io/posts/2014-07-Conv-Nets-Modular/) or this [video](https://www.youtube.com/watch?v=bNb2fEVKeEo).\n",
        "- You will notice that the training takes a lot more time when you're using a more complicated model. Try training on GPU (menu: \"Runtime / Change runtime type\").\n",
        "- Use the same model with different datasets.\n",
        "\n",
        "Spending time on questions like these will develop your intuitive understanding of the different parameters, which is an important part of ML practice..."
      ]
    }
  ]
}